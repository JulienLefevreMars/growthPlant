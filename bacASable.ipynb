{
 "cells": [
  {
   "cell_type": "code",
   "execution_count": 2,
   "metadata": {},
   "outputs": [
    {
     "name": "stdout",
     "output_type": "stream",
     "text": [
      "100_2035.JPG\n",
      "100_2058.JPG\n",
      "100_2034.JPG\n",
      "100_2055.JPG\n",
      "100_2038.JPG\n",
      "100_2042.JPG\n",
      "100_2046.JPG\n",
      "100_2059.JPG\n",
      "100_2051.JPG\n",
      "100_2039.JPG\n",
      "100_2031.JPG\n",
      "100_2036.JPG\n",
      "100_2043.JPG\n",
      "100_2053.JPG\n",
      "100_2029.JPG\n",
      "100_2048.JPG\n",
      "100_2056.JPG\n",
      "100_2028.JPG\n",
      "100_2045.JPG\n",
      "100_2049.JPG\n"
     ]
    }
   ],
   "source": [
    "import os\n",
    "\n",
    "folder='/home/julienlefevre/ownCloud/Documents/Misc/PhotosCroissance/Vue2/'\n",
    "\n",
    "for root, dirs, files in os.walk(folder):\n",
    "    for filename in files:\n",
    "        print(filename)"
   ]
  },
  {
   "cell_type": "code",
   "execution_count": 10,
   "metadata": {},
   "outputs": [
    {
     "name": "stdout",
     "output_type": "stream",
     "text": [
      "toto\n"
     ]
    }
   ],
   "source": [
    "for root, dirs, files in os.walk(folder):\n",
    "    print('toto')\n"
   ]
  },
  {
   "cell_type": "code",
   "execution_count": 12,
   "metadata": {},
   "outputs": [
    {
     "data": {
      "text/plain": [
       "'100_2035.JPG'"
      ]
     },
     "execution_count": 12,
     "metadata": {},
     "output_type": "execute_result"
    }
   ],
   "source": [
    "files[0]"
   ]
  },
  {
   "cell_type": "code",
   "execution_count": null,
   "metadata": {},
   "outputs": [],
   "source": []
  }
 ],
 "metadata": {
  "kernelspec": {
   "display_name": "Python 3",
   "language": "python",
   "name": "python3"
  },
  "language_info": {
   "codemirror_mode": {
    "name": "ipython",
    "version": 3
   },
   "file_extension": ".py",
   "mimetype": "text/x-python",
   "name": "python",
   "nbconvert_exporter": "python",
   "pygments_lexer": "ipython3",
   "version": "3.7.4"
  }
 },
 "nbformat": 4,
 "nbformat_minor": 2
}
